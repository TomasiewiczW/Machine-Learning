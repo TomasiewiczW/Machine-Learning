{
 "cells": [
  {
   "cell_type": "code",
   "execution_count": 6,
   "metadata": {},
   "outputs": [],
   "source": [
    "# #1\n",
    "from sklearn import datasets\n",
    "from sklearn.model_selection import train_test_split\n",
    "from scipy.spatial import distance\n",
    "from sklearn.metrics import accuracy_score\n",
    "import pandas as pd"
   ]
  },
  {
   "cell_type": "code",
   "execution_count": 7,
   "metadata": {},
   "outputs": [],
   "source": [
    "# Iris database:\n",
    "iris_data = datasets.load_iris()\n",
    "\n",
    "# Train collection - 1:1\n",
    "features_train, features_test, labels_train, labels_test = train_test_split(iris_data.data, iris_data.target, test_size=0.5)"
   ]
  },
  {
   "cell_type": "code",
   "execution_count": 8,
   "metadata": {},
   "outputs": [
    {
     "data": {
      "text/plain": [
       "5.196152422706632"
      ]
     },
     "execution_count": 8,
     "metadata": {},
     "output_type": "execute_result"
    }
   ],
   "source": [
    "a = (1, 2, 3)\n",
    "b = (4, 5, 6)\n",
    "dst = distance.euclidean(a,b)\n",
    "dst"
   ]
  },
  {
   "cell_type": "code",
   "execution_count": 9,
   "metadata": {},
   "outputs": [
    {
     "name": "stdout",
     "output_type": "stream",
     "text": [
      "2.0\n"
     ]
    }
   ],
   "source": [
    "k = 7\n",
    "# k - number of observation\n",
    "\n",
    "def kNN(NewPoint, CurrentPoints, PointsLabels, k):\n",
    "    \n",
    "    dst = pd.DataFrame(columns=['Distance', 'Label'])\n",
    "    \n",
    "    for Point, label in zip(CurrentPoints, PointsLabels):\n",
    "        dst = dst.append({'Distance':distance.euclidean(NewPoint, Point), 'Label':label}, ignore_index=True)\n",
    "    dst.sort_values(by=['Distance'], inplace=True)\n",
    "    \n",
    "    # Most frequent value in neighbours is our value for the unknown\n",
    "    cnt = dst.iloc[:k]['Label'].value_counts()\n",
    "    \n",
    "    if len(cnt) > 1:\n",
    "        ki = 1\n",
    "        while cnt.index[0] == cnt.index[1]:\n",
    "            cnt = dst.iloc[:k+ki]['Label'].value_counts()\n",
    "            ki += 1\n",
    "    return cnt.index[0]\n",
    "\n",
    "\n",
    "test = kNN(features_test[0], features_train, labels_train, k)\n",
    "print(test)"
   ]
  },
  {
   "cell_type": "code",
   "execution_count": 10,
   "metadata": {},
   "outputs": [
    {
     "name": "stdout",
     "output_type": "stream",
     "text": [
      "[2.0, 1.0, 1.0, 0.0, 0.0, 1.0, 1.0, 2.0, 0.0, 2.0, 2.0, 2.0, 1.0, 0.0, 0.0, 0.0, 2.0, 0.0, 1.0, 2.0, 1.0, 1.0, 1.0, 2.0, 0.0, 0.0, 2.0, 0.0, 2.0, 1.0, 2.0, 0.0, 2.0, 1.0, 1.0, 2.0, 1.0, 1.0, 2.0, 2.0, 0.0, 2.0, 2.0, 2.0, 1.0, 0.0, 0.0, 1.0, 2.0, 0.0, 1.0, 1.0, 0.0, 2.0, 2.0, 0.0, 2.0, 2.0, 1.0, 0.0, 0.0, 2.0, 2.0, 0.0, 1.0, 0.0, 0.0, 1.0, 1.0, 1.0, 2.0, 0.0, 0.0, 2.0, 1.0]\n"
     ]
    }
   ],
   "source": [
    "predictions = []\n",
    "\n",
    "for i in features_test:\n",
    "    predictions.append(kNN(i, features_train, labels_train, k))\n",
    "\n",
    "print(predictions)"
   ]
  },
  {
   "cell_type": "code",
   "execution_count": 11,
   "metadata": {},
   "outputs": [
    {
     "name": "stdout",
     "output_type": "stream",
     "text": [
      "0.92\n"
     ]
    }
   ],
   "source": [
    "output = accuracy_score(labels_test, predictions)\n",
    "print(output)"
   ]
  },
  {
   "cell_type": "code",
   "execution_count": 12,
   "metadata": {},
   "outputs": [],
   "source": [
    "# #2\n",
    "from sklearn import datasets\n",
    "from sklearn.metrics import accuracy_score\n",
    "from sklearn.model_selection import train_test_split\n",
    "from sklearn.neighbors import KNeighborsClassifier"
   ]
  },
  {
   "cell_type": "code",
   "execution_count": 13,
   "metadata": {},
   "outputs": [
    {
     "data": {
      "text/plain": [
       "KNeighborsClassifier(algorithm='auto', leaf_size=30, metric='minkowski',\n",
       "                     metric_params=None, n_jobs=None, n_neighbors=7, p=2,\n",
       "                     weights='uniform')"
      ]
     },
     "execution_count": 13,
     "metadata": {},
     "output_type": "execute_result"
    }
   ],
   "source": [
    "iris = datasets.load_iris()\n",
    "\n",
    "# Train collection 3:7\n",
    "features_train, features_test, labels_train, labels_test = train_test_split(iris.data, iris.target, test_size=0.3)\n",
    "\n",
    "classifier = KNeighborsClassifier(n_neighbors=k)\n",
    "classifier.fit(features_train, labels_train)\n",
    "classifier"
   ]
  },
  {
   "cell_type": "code",
   "execution_count": 14,
   "metadata": {},
   "outputs": [
    {
     "name": "stdout",
     "output_type": "stream",
     "text": [
      "0.9555555555555556\n"
     ]
    }
   ],
   "source": [
    "predictions = classifier.predict(features_test)\n",
    "output = accuracy_score(labels_test, predictions)\n",
    "print(output)"
   ]
  },
  {
   "cell_type": "code",
   "execution_count": 15,
   "metadata": {},
   "outputs": [],
   "source": [
    "# #3\n",
    "\n",
    "from sklearn.datasets import load_iris\n",
    "from sklearn import tree\n",
    "from six import StringIO  \n",
    "import pydot \n",
    "import matplotlib.pyplot as plt"
   ]
  },
  {
   "cell_type": "code",
   "execution_count": 16,
   "metadata": {},
   "outputs": [
    {
     "data": {
      "text/plain": [
       "DecisionTreeClassifier(ccp_alpha=0.0, class_weight=None, criterion='gini',\n",
       "                       max_depth=None, max_features=None, max_leaf_nodes=None,\n",
       "                       min_impurity_decrease=0.0, min_impurity_split=None,\n",
       "                       min_samples_leaf=1, min_samples_split=2,\n",
       "                       min_weight_fraction_leaf=0.0, presort='deprecated',\n",
       "                       random_state=None, splitter='best')"
      ]
     },
     "execution_count": 16,
     "metadata": {},
     "output_type": "execute_result"
    }
   ],
   "source": [
    "iris = load_iris()\n",
    "classifier = tree.DecisionTreeClassifier()\n",
    "classifier.fit(iris.data, iris.target)"
   ]
  },
  {
   "cell_type": "code",
   "execution_count": 17,
   "metadata": {},
   "outputs": [
    {
     "data": {
      "text/plain": [
       "array([0])"
      ]
     },
     "execution_count": 17,
     "metadata": {},
     "output_type": "execute_result"
    }
   ],
   "source": [
    "classifier.predict(iris.data[:1, :])"
   ]
  },
  {
   "cell_type": "code",
   "execution_count": 18,
   "metadata": {},
   "outputs": [
    {
     "data": {
      "text/plain": [
       "array([[1., 0., 0.]])"
      ]
     },
     "execution_count": 18,
     "metadata": {},
     "output_type": "execute_result"
    }
   ],
   "source": [
    "classifier.predict_proba(iris.data[:1, :])"
   ]
  },
  {
   "cell_type": "code",
   "execution_count": 19,
   "metadata": {},
   "outputs": [
    {
     "data": {
      "text/plain": [
       "<matplotlib.image.AxesImage at 0x266f7bdef88>"
      ]
     },
     "execution_count": 19,
     "metadata": {},
     "output_type": "execute_result"
    },
    {
     "data": {
      "image/png": "[encoded data removed]",
      "text/plain": [
       "<Figure size 720x360 with 1 Axes>"
      ]
     },
     "metadata": {
      "needs_background": "light"
     },
     "output_type": "display_data"
    }
   ],
   "source": [
    "dot_data = StringIO() \n",
    "tree.export_graphviz(classifier, out_file=dot_data) \n",
    "graph = pydot.graph_from_dot_data(dot_data.getvalue()) \n",
    "graph[0].write_pdf(\"iris.pdf\")\n",
    "graph[0].write_png(\"iris.png\")\n",
    "\n",
    "schema_im = plt.imread('iris.png')\n",
    "plt.figure(figsize=(10,5))\n",
    "plt.imshow(schema_im)"
   ]
  },
  {
   "cell_type": "code",
   "execution_count": 20,
   "metadata": {},
   "outputs": [],
   "source": [
    "# #4\n",
    "\n",
    "import matplotlib.pyplot as plt\n",
    "import numpy as np\n",
    "from sklearn.metrics import classification_report, confusion_matrix, f1_score\n",
    "from sklearn import tree\n",
    "from sklearn.model_selection import train_test_split\n",
    "from scipy.io import loadmat"
   ]
  },
  {
   "cell_type": "code",
   "execution_count": 21,
   "metadata": {},
   "outputs": [
    {
     "data": {
      "text/plain": [
       "{'__header__': b'MATLAB 5.0 MAT-file, Platform: GLNXA64, Created on: Sun Oct 16 13:09:09 2011',\n",
       " '__version__': '1.0',\n",
       " '__globals__': [],\n",
       " 'X': array([[0., 0., 0., ..., 0., 0., 0.],\n",
       "        [0., 0., 0., ..., 0., 0., 0.],\n",
       "        [0., 0., 0., ..., 0., 0., 0.],\n",
       "        ...,\n",
       "        [0., 0., 0., ..., 0., 0., 0.],\n",
       "        [0., 0., 0., ..., 0., 0., 0.],\n",
       "        [0., 0., 0., ..., 0., 0., 0.]]),\n",
       " 'y': array([[10],\n",
       "        [10],\n",
       "        [10],\n",
       "        ...,\n",
       "        [ 9],\n",
       "        [ 9],\n",
       "        [ 9]], dtype=uint8)}"
      ]
     },
     "execution_count": 21,
     "metadata": {},
     "output_type": "execute_result"
    }
   ],
   "source": [
    "data = loadmat('mnist.mat')\n",
    "data"
   ]
  },
  {
   "cell_type": "code",
   "execution_count": 22,
   "metadata": {},
   "outputs": [],
   "source": [
    "# #4.1 - Divide data to parameters X and response y\n",
    "\n",
    "X = data['X']\n",
    "y = data['y']\n",
    "\n",
    "for i in range(X.shape[0]):\n",
    "    X[i,:] = X[i,:]/np.std(X[i,:])\n",
    "\n",
    "y[np.where(y==10)]=0\n",
    "\n",
    "h = 20\n",
    "w = 20"
   ]
  },
  {
   "cell_type": "code",
   "execution_count": 23,
   "metadata": {},
   "outputs": [
    {
     "name": "stdout",
     "output_type": "stream",
     "text": [
      "Amount of numbers: 5000\n",
      "Amount of pixels for one image: 400\n"
     ]
    }
   ],
   "source": [
    "# #4.2 - Display the Amount of numbers and the Amount of pixels for one image\n",
    "\n",
    "print('Amount of numbers: ' + str(y.size))\n",
    "print('Amount of pixels for one image: ' + str(X[0,:].size))"
   ]
  },
  {
   "cell_type": "code",
   "execution_count": 24,
   "metadata": {},
   "outputs": [],
   "source": [
    "# Subfunction plot_mnist to display images from the database\n",
    "def plot_mnist(images, titles, h, w, n_row=3, n_col=4):\n",
    "    plt.figure(figsize=(1.8 * n_col, 2.4 * n_row))\n",
    "    plt.subplots_adjust(bottom=0, left=.01, right=.99, top=.90, hspace=.05)\n",
    "    for i in range(n_row * n_col):\n",
    "        plt.subplot(n_row, n_col, i + 1)\n",
    "        plt.imshow(images[i].reshape((h, w)).T, cmap=plt.cm.gray)\n",
    "        plt.title(titles[i], size=12)\n",
    "        plt.xticks(())\n",
    "        plt.yticks(())"
   ]
  },
  {
   "cell_type": "code",
   "execution_count": 25,
   "metadata": {},
   "outputs": [
    {
     "name": "stderr",
     "output_type": "stream",
     "text": [
      "C:\\Users\\wojta\\anaconda3\\lib\\site-packages\\matplotlib\\text.py:1150: FutureWarning: elementwise comparison failed; returning scalar instead, but in the future will perform elementwise comparison\n",
      "  if s != self._text:\n"
     ]
    },
    {
     "data": {
      "image/png": "[encoded data removed]",
      "text/plain": [
       "<Figure size 518.4x518.4 with 12 Axes>"
      ]
     },
     "metadata": {},
     "output_type": "display_data"
    }
   ],
   "source": [
    "plot_mnist(X, y, h, w)"
   ]
  },
  {
   "cell_type": "code",
   "execution_count": 26,
   "metadata": {},
   "outputs": [
    {
     "data": {
      "image/png": "[encoded data removed]",
      "text/plain": [
       "<Figure size 518.4x172.8 with 4 Axes>"
      ]
     },
     "metadata": {},
     "output_type": "display_data"
    }
   ],
   "source": [
    "# #4.3 - Display examplar numbers from the data - plot_mnist\n",
    "example_vector = [1000, 1500, 2000, 4000]\n",
    "example_images = []\n",
    "example_y = []\n",
    "\n",
    "for i in example_vector:\n",
    "    example_images.append(X[i,:])\n",
    "    example_y.append(y[i])\n",
    "\n",
    "plot_mnist(example_images, example_y, h, w, n_col=4, n_row=1)\n"
   ]
  },
  {
   "cell_type": "code",
   "execution_count": 27,
   "metadata": {},
   "outputs": [],
   "source": [
    "# #4.4 - Divide data to train and test - 3:7 ratio\n",
    "\n",
    "features_train, features_test, labels_train, labels_test = train_test_split(X, y, test_size=0.3)"
   ]
  },
  {
   "cell_type": "code",
   "execution_count": 28,
   "metadata": {},
   "outputs": [
    {
     "data": {
      "text/plain": [
       "0.7606666666666667"
      ]
     },
     "execution_count": 28,
     "metadata": {},
     "output_type": "execute_result"
    }
   ],
   "source": [
    "# #4.5 - Create a classificator instance through the training and prediction for test data\n",
    "\n",
    "DEPTH = 10\n",
    "\n",
    "classifier = tree.DecisionTreeClassifier(max_depth=DEPTH)\n",
    "classifier.fit(features_train, labels_train)\n",
    "\n",
    "predictions = classifier.predict(features_test)\n",
    "accuracy_score(labels_test, predictions)"
   ]
  },
  {
   "cell_type": "code",
   "execution_count": 29,
   "metadata": {},
   "outputs": [
    {
     "name": "stdout",
     "output_type": "stream",
     "text": [
      "Classification report: \n",
      "              precision    recall  f1-score   support\n",
      "\n",
      "           0       0.80      0.88      0.84       160\n",
      "           1       0.89      0.84      0.86       141\n",
      "           2       0.63      0.75      0.69       150\n",
      "           3       0.74      0.73      0.73       158\n",
      "           4       0.77      0.74      0.75       139\n",
      "           5       0.74      0.63      0.68       153\n",
      "           6       0.86      0.77      0.81       149\n",
      "           7       0.83      0.82      0.83       150\n",
      "           8       0.68      0.69      0.69       157\n",
      "           9       0.71      0.76      0.74       143\n",
      "\n",
      "    accuracy                           0.76      1500\n",
      "   macro avg       0.77      0.76      0.76      1500\n",
      "weighted avg       0.76      0.76      0.76      1500\n",
      "\n",
      "\n",
      "Confusion Matrix: \n",
      "[[141   0   4   2   1   4   5   1   2   0]\n",
      " [  0 118   6   2   0   3   2   6   4   0]\n",
      " [  9   2 112   5   4   1   3   7   5   2]\n",
      " [  1   4   4 115   2  11   0   3  12   6]\n",
      " [  0   0  13   3 103   2   2   4   4   8]\n",
      " [  7   1   5  10   4  97   4   3   9  13]\n",
      " [  6   3   5   2   5   2 114   1  10   1]\n",
      " [  3   0   5   5   3   3   1 123   1   6]\n",
      " [  6   4  13   7   3   5   2   0 109   8]\n",
      " [  3   0  10   5   9   3   0   0   4 109]]\n",
      "\n",
      "F1 scores: \n",
      "[0.83928571 0.86446886 0.68501529 0.73248408 0.75457875 0.68309859\n",
      " 0.80851064 0.82550336 0.68769716 0.73648649]\n"
     ]
    }
   ],
   "source": [
    "# #4.6 Display F1 output, Confusion matrix and Classification report\n",
    "\n",
    "print(\"Classification report: \")\n",
    "print(classification_report(labels_test, predictions))\n",
    "print(\"\\nConfusion Matrix: \")\n",
    "print(confusion_matrix(labels_test, predictions))\n",
    "print(\"\\nF1 scores: \")\n",
    "print(f1_score(labels_test, predictions, average=None))"
   ]
  },
  {
   "cell_type": "code",
   "execution_count": null,
   "metadata": {},
   "outputs": [],
   "source": []
  },
  {
   "cell_type": "code",
   "execution_count": null,
   "metadata": {},
   "outputs": [],
   "source": []
  }
 ],
 "metadata": {
  "kernelspec": {
   "display_name": "Python 3",
   "language": "python",
   "name": "python3"
  },
  "language_info": {
   "codemirror_mode": {
    "name": "ipython",
    "version": 3
   },
   "file_extension": ".py",
   "mimetype": "text/x-python",
   "name": "python",
   "nbconvert_exporter": "python",
   "pygments_lexer": "ipython3",
   "version": "3.8.3"
  }
 },
 "nbformat": 4,
 "nbformat_minor": 2
}
